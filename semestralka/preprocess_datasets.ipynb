{
 "cells": [
  {
   "cell_type": "code",
   "execution_count": 9,
   "metadata": {},
   "outputs": [],
   "source": [
    "import pandas as pd\n",
    "import numpy as np"
   ]
  },
  {
   "cell_type": "code",
   "execution_count": 73,
   "metadata": {},
   "outputs": [
    {
     "name": "stderr",
     "output_type": "stream",
     "text": [
      "/opt/conda/lib/python3.7/site-packages/IPython/core/interactiveshell.py:2785: DtypeWarning: Columns (3) have mixed types. Specify dtype option on import or set low_memory=False.\n",
      "  interactivity=interactivity, compiler=compiler, result=result)\n"
     ]
    }
   ],
   "source": [
    "df_play = pd.read_csv('googleplaystore.csv')\n",
    "df_rew = pd.read_csv('googleplaystore_user_reviews.csv')\n",
    "df_city = pd.read_csv('worldcitiespop.csv')"
   ]
  },
  {
   "cell_type": "code",
   "execution_count": 86,
   "metadata": {},
   "outputs": [
    {
     "name": "stderr",
     "output_type": "stream",
     "text": [
      "/opt/conda/lib/python3.7/site-packages/pandas/core/indexing.py:189: SettingWithCopyWarning: \n",
      "A value is trying to be set on a copy of a slice from a DataFrame\n",
      "\n",
      "See the caveats in the documentation: http://pandas.pydata.org/pandas-docs/stable/indexing.html#indexing-view-versus-copy\n",
      "  self._setitem_with_indexer(indexer, value)\n"
     ]
    }
   ],
   "source": [
    "siz = df_city.loc[df_city.Population.apply(np.isnan)].shape[0]\n",
    "df_city.Population.loc[ df_city.Population.apply(np.isnan)] = np.random.randint(low=100, high=30000, size=siz )"
   ]
  },
  {
   "cell_type": "code",
   "execution_count": 104,
   "metadata": {},
   "outputs": [],
   "source": [
    "# udelame dataset co bude mit 100 000 mest\n",
    "df_city_base = df_city.sample(n=100000, random_state=42)\n",
    "df_city_base = df_city_base.reset_index(drop=True)\n",
    "\n",
    "\n",
    "\n",
    "# udelame temp dataset na pridani mest do reviews\n",
    "df_cs_tmp = df_city_base.sample(n=1000, random_state=42)\n",
    "\n",
    "# a vyrobime v delce rewievs\n",
    "cnt_rewievs = df_rew.shape[0]\n",
    "df_for_rewievs = df_cs_tmp.iloc[np.random.choice(np.arange(len(df_cs_tmp)), cnt_rewievs)]\n",
    "df_for_rewievs = df_for_rewievs.reset_index(drop=True)"
   ]
  },
  {
   "cell_type": "code",
   "execution_count": 107,
   "metadata": {},
   "outputs": [],
   "source": [
    "df_rew['City'] = df_for_rewievs.City"
   ]
  },
  {
   "cell_type": "code",
   "execution_count": 121,
   "metadata": {},
   "outputs": [
    {
     "data": {
      "text/plain": [
       "64295"
      ]
     },
     "execution_count": 121,
     "metadata": {},
     "output_type": "execute_result"
    }
   ],
   "source": [
    "df_rew.shape[0]"
   ]
  },
  {
   "cell_type": "code",
   "execution_count": 143,
   "metadata": {},
   "outputs": [],
   "source": [
    "def id_generator(size=6, lengt=1,chars=string.ascii_lowercase):\n",
    "    x = []\n",
    "    for i in range(0,lengt):\n",
    "        x.append(''.join(random.choice(chars) for _ in range(size)))\n",
    "    return x"
   ]
  },
  {
   "cell_type": "code",
   "execution_count": 144,
   "metadata": {},
   "outputs": [
    {
     "data": {
      "text/plain": [
       "['pngicg', 'omfbwh', 'tsuiuk']"
      ]
     },
     "execution_count": 144,
     "metadata": {},
     "output_type": "execute_result"
    }
   ],
   "source": [
    "id_generator(6,3)"
   ]
  },
  {
   "cell_type": "code",
   "execution_count": 154,
   "metadata": {
    "scrolled": true
   },
   "outputs": [
    {
     "name": "stderr",
     "output_type": "stream",
     "text": [
      "/opt/conda/lib/python3.7/site-packages/ipykernel_launcher.py:6: SettingWithCopyWarning: \n",
      "A value is trying to be set on a copy of a slice from a DataFrame.\n",
      "Try using .loc[row_indexer,col_indexer] = value instead\n",
      "\n",
      "See the caveats in the documentation: http://pandas.pydata.org/pandas-docs/stable/indexing.html#indexing-view-versus-copy\n",
      "  \n"
     ]
    }
   ],
   "source": [
    "import random\n",
    "import string\n",
    "\n",
    "df_play.shape[0]\n",
    "df_play_duplic = df_play.iloc[np.random.choice(np.arange(len(df_play)), 55000)]\n",
    "df_play_duplic['App'] =  id_generator(12, df_play_duplic.shape[0])"
   ]
  },
  {
   "cell_type": "code",
   "execution_count": 160,
   "metadata": {},
   "outputs": [],
   "source": [
    "# super to jeste mergneme s tema puvodnima\n",
    "df_play_duplic.head()\n",
    "df_play.shape[0] # 10841\n",
    "df_play.App.nunique() # 9660 mel bych asi dropnout\n",
    "\n",
    "# ted musim k apkam s novymi jmeny vygenerovat nove komentare\n",
    "\n",
    "# nove komentare\n",
    "df_play.shape[0]\n",
    "df_rew_duplic = df_rew.iloc[np.random.choice(np.arange(len(df_rew)), 150000)]\n",
    "df_rew_duplic = df_rew_duplic.reset_index(drop=True)\n",
    "\n",
    "# app names pro komentare z duplikovanych\n",
    "x = df_play_duplic.iloc[np.random.choice(np.arange(len(df_play_duplic)), 150000)]\n",
    "x = x.reset_index(drop=True)\n",
    "df_rew_duplic['App'] = x.App"
   ]
  },
  {
   "cell_type": "code",
   "execution_count": 165,
   "metadata": {},
   "outputs": [],
   "source": [
    "# rewievs\n",
    "df_play_duplic # nahodna jmena 55 000\n",
    "df_play # 10 000\n",
    "df_rew_duplic # nahodna jmena 150 000x z df_play_duplic\n",
    "df_rew # 61 000\n",
    "df_city_base # 100 000\n",
    "\n",
    "df_play_to_save = pd.concat([df_play, df_play_duplic])\n",
    "df_rewievs_to_save = pd.concat([df_rew, df_rew_duplic])\n",
    "df_city_to_save = df_city_base"
   ]
  },
  {
   "cell_type": "code",
   "execution_count": 175,
   "metadata": {},
   "outputs": [
    {
     "name": "stdout",
     "output_type": "stream",
     "text": [
      "<class 'pandas.core.frame.DataFrame'>\n",
      "Int64Index: 214295 entries, 0 to 149999\n",
      "Data columns (total 6 columns):\n",
      "App                       214295 non-null object\n",
      "Translated_Review         124590 non-null object\n",
      "Sentiment                 124606 non-null object\n",
      "Sentiment_Polarity        124606 non-null float64\n",
      "Sentiment_Subjectivity    124606 non-null float64\n",
      "City                      214295 non-null object\n",
      "dtypes: float64(2), object(4)\n",
      "memory usage: 11.4+ MB\n",
      "<class 'pandas.core.frame.DataFrame'>\n",
      "RangeIndex: 100000 entries, 0 to 99999\n",
      "Data columns (total 7 columns):\n",
      "Country       100000 non-null object\n",
      "City          99998 non-null object\n",
      "AccentCity    100000 non-null object\n",
      "Region        100000 non-null object\n",
      "Population    100000 non-null float64\n",
      "Latitude      100000 non-null float64\n",
      "Longitude     100000 non-null float64\n",
      "dtypes: float64(3), object(4)\n",
      "memory usage: 5.3+ MB\n"
     ]
    }
   ],
   "source": [
    "df_play_to_save.drop_duplicates(subset='App', inplace=True)\n",
    "#df_play_to_save.info() # 64 660\n",
    "df_rewievs_to_save.info() # 214 295\n",
    "df_city_to_save.info() # 100 000"
   ]
  },
  {
   "cell_type": "markdown",
   "metadata": {},
   "source": [
    "# Play to save"
   ]
  },
  {
   "cell_type": "code",
   "execution_count": 191,
   "metadata": {},
   "outputs": [],
   "source": [
    "df_play_to_save.Reviews = df_play_to_save.Reviews.str.replace('.', '', regex=False)\n",
    "df_play_to_save.Reviews = df_play_to_save.Reviews.str.replace('M', '000000', regex=False)\n",
    "df_play_to_save.Reviews = df_play_to_save.Reviews.astype('int64')"
   ]
  },
  {
   "cell_type": "code",
   "execution_count": 198,
   "metadata": {},
   "outputs": [],
   "source": [
    "df_play_to_save.Size = df_play_to_save.Size.str.replace('.', '', regex=False)\n",
    "df_play_to_save.Size = df_play_to_save.Size.str.replace(',', '', regex=False)\n",
    "df_play_to_save.Size = df_play_to_save.Size.str.replace('M', '000000', regex=False)\n",
    "df_play_to_save.Size = df_play_to_save.Size.str.replace('k', '000', regex=False)\n",
    "df_play_to_save.Size = df_play_to_save.Size.str.replace('+', '', regex=False)\n",
    "df_play_to_save.Size = df_play_to_save.Size.str.replace('Varies with device', '1000', regex=False)\n",
    "df_play_to_save.Size = df_play_to_save.Size.astype('int64')"
   ]
  },
  {
   "cell_type": "code",
   "execution_count": 203,
   "metadata": {},
   "outputs": [],
   "source": [
    "df_play_to_save.Installs = df_play_to_save.Installs.str.replace(',', '', regex=False)\n",
    "df_play_to_save.Installs = df_play_to_save.Installs.str.replace('+', '', regex=False)\n",
    "df_play_to_save.Installs = df_play_to_save.Installs.str.replace('Free', '999', regex=False)\n",
    "df_play_to_save.Installs = df_play_to_save.Installs.astype('int64')\n"
   ]
  },
  {
   "cell_type": "code",
   "execution_count": 208,
   "metadata": {},
   "outputs": [],
   "source": [
    "df_play_to_save =  df_play_to_save.rename(index=str, columns={\"Size\": \"Size_in_Bytes\"})"
   ]
  },
  {
   "cell_type": "code",
   "execution_count": 215,
   "metadata": {},
   "outputs": [],
   "source": [
    "df_play_to_save.Price = df_play_to_save.Price.str.replace('$', '', regex=False)\n",
    "df_play_to_save.Price = df_play_to_save.Price.str.replace('Everyone', '0', regex=False)\n",
    "df_play_to_save.Price = df_play_to_save.Price.astype('float')"
   ]
  },
  {
   "cell_type": "markdown",
   "metadata": {},
   "source": [
    "# Reviews"
   ]
  },
  {
   "cell_type": "code",
   "execution_count": 242,
   "metadata": {},
   "outputs": [],
   "source": [
    "#df_rewievs_to_save.info()"
   ]
  },
  {
   "cell_type": "code",
   "execution_count": 229,
   "metadata": {},
   "outputs": [],
   "source": [
    "df_rewievs_to_save.Sentiment_Polarity = df_rewievs_to_save.Sentiment_Polarity.fillna(0.0)\n",
    "df_rewievs_to_save.Sentiment_Subjectivity = df_rewievs_to_save.Sentiment_Subjectivity.fillna(0.0)\n",
    "df_rewievs_to_save.Sentiment = df_rewievs_to_save.Sentiment.fillna('Neutral')\n",
    "df_rewievs_to_save.Translated_Review = df_rewievs_to_save.Translated_Review.fillna('none')"
   ]
  },
  {
   "cell_type": "markdown",
   "metadata": {},
   "source": [
    "# Cities"
   ]
  },
  {
   "cell_type": "code",
   "execution_count": 243,
   "metadata": {},
   "outputs": [],
   "source": [
    "#df_city_to_save.head()"
   ]
  },
  {
   "cell_type": "code",
   "execution_count": 247,
   "metadata": {},
   "outputs": [
    {
     "data": {
      "text/html": [
       "<div>\n",
       "<style scoped>\n",
       "    .dataframe tbody tr th:only-of-type {\n",
       "        vertical-align: middle;\n",
       "    }\n",
       "\n",
       "    .dataframe tbody tr th {\n",
       "        vertical-align: top;\n",
       "    }\n",
       "\n",
       "    .dataframe thead th {\n",
       "        text-align: right;\n",
       "    }\n",
       "</style>\n",
       "<table border=\"1\" class=\"dataframe\">\n",
       "  <thead>\n",
       "    <tr style=\"text-align: right;\">\n",
       "      <th></th>\n",
       "      <th>Country</th>\n",
       "      <th>City</th>\n",
       "      <th>AccentCity</th>\n",
       "      <th>Region</th>\n",
       "      <th>Population</th>\n",
       "      <th>Latitude</th>\n",
       "      <th>Longitude</th>\n",
       "    </tr>\n",
       "  </thead>\n",
       "  <tbody>\n",
       "    <tr>\n",
       "      <th>0</th>\n",
       "      <td>cn</td>\n",
       "      <td>yuji</td>\n",
       "      <td>Yuji</td>\n",
       "      <td>1</td>\n",
       "      <td>8278.0</td>\n",
       "      <td>31.935556</td>\n",
       "      <td>116.823056</td>\n",
       "    </tr>\n",
       "    <tr>\n",
       "      <th>1</th>\n",
       "      <td>ph</td>\n",
       "      <td>po-oo</td>\n",
       "      <td>Po-oo</td>\n",
       "      <td>H3</td>\n",
       "      <td>27405.0</td>\n",
       "      <td>9.588100</td>\n",
       "      <td>122.472800</td>\n",
       "    </tr>\n",
       "    <tr>\n",
       "      <th>2</th>\n",
       "      <td>us</td>\n",
       "      <td>larkdale</td>\n",
       "      <td>Larkdale</td>\n",
       "      <td>IL</td>\n",
       "      <td>7570.0</td>\n",
       "      <td>39.888333</td>\n",
       "      <td>-88.911944</td>\n",
       "    </tr>\n",
       "    <tr>\n",
       "      <th>3</th>\n",
       "      <td>de</td>\n",
       "      <td>schonwag</td>\n",
       "      <td>Schönwag</td>\n",
       "      <td>2</td>\n",
       "      <td>16008.0</td>\n",
       "      <td>47.866667</td>\n",
       "      <td>11.050000</td>\n",
       "    </tr>\n",
       "    <tr>\n",
       "      <th>4</th>\n",
       "      <td>ao</td>\n",
       "      <td>nova redonda</td>\n",
       "      <td>Nova Redonda</td>\n",
       "      <td>6</td>\n",
       "      <td>9164.0</td>\n",
       "      <td>-11.206048</td>\n",
       "      <td>13.843713</td>\n",
       "    </tr>\n",
       "  </tbody>\n",
       "</table>\n",
       "</div>"
      ],
      "text/plain": [
       "  Country          City    AccentCity Region  Population   Latitude  \\\n",
       "0      cn          yuji          Yuji      1      8278.0  31.935556   \n",
       "1      ph         po-oo         Po-oo     H3     27405.0   9.588100   \n",
       "2      us      larkdale      Larkdale     IL      7570.0  39.888333   \n",
       "3      de      schonwag      Schönwag      2     16008.0  47.866667   \n",
       "4      ao  nova redonda  Nova Redonda      6      9164.0 -11.206048   \n",
       "\n",
       "    Longitude  \n",
       "0  116.823056  \n",
       "1  122.472800  \n",
       "2  -88.911944  \n",
       "3   11.050000  \n",
       "4   13.843713  "
      ]
     },
     "execution_count": 247,
     "metadata": {},
     "output_type": "execute_result"
    }
   ],
   "source": [
    "df_city_to_save.head()"
   ]
  },
  {
   "cell_type": "code",
   "execution_count": 248,
   "metadata": {},
   "outputs": [],
   "source": [
    "df_play_to_save.to_csv('processed/playstore.csv', index=False)\n",
    "df_rewievs_to_save.to_csv('processed/playstore_reviews.csv', index=False)\n",
    "df_city_to_save.to_csv('processed/cities.csv', index=False)"
   ]
  },
  {
   "cell_type": "code",
   "execution_count": null,
   "metadata": {},
   "outputs": [],
   "source": []
  }
 ],
 "metadata": {
  "kernelspec": {
   "display_name": "Python 3",
   "language": "python",
   "name": "python3"
  },
  "language_info": {
   "codemirror_mode": {
    "name": "ipython",
    "version": 3
   },
   "file_extension": ".py",
   "mimetype": "text/x-python",
   "name": "python",
   "nbconvert_exporter": "python",
   "pygments_lexer": "ipython3",
   "version": "3.7.0"
  }
 },
 "nbformat": 4,
 "nbformat_minor": 2
}
